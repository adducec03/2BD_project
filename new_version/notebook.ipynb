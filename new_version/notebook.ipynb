{
 "cells": [
  {
   "cell_type": "code",
   "execution_count": 12,
   "id": "50b45d91",
   "metadata": {},
   "outputs": [
    {
     "name": "stdout",
     "output_type": "stream",
     "text": [
      "hex grid : 532\n",
      "after greedy : 532\n"
     ]
    },
    {
     "ename": "KeyboardInterrupt",
     "evalue": "",
     "output_type": "error",
     "traceback": [
      "\u001b[31m---------------------------------------------------------------------------\u001b[39m",
      "\u001b[31mKeyboardInterrupt\u001b[39m                         Traceback (most recent call last)",
      "\u001b[36mCell\u001b[39m\u001b[36m \u001b[39m\u001b[32mIn[12]\u001b[39m\u001b[32m, line 3\u001b[39m\n\u001b[32m      1\u001b[39m \u001b[38;5;28;01mimport\u001b[39;00m\u001b[38;5;250m \u001b[39m\u001b[34;01mcircle_packing\u001b[39;00m\u001b[38;5;250m \u001b[39m\u001b[38;5;28;01mas\u001b[39;00m\u001b[38;5;250m \u001b[39m\u001b[34;01mcp\u001b[39;00m\n\u001b[32m----> \u001b[39m\u001b[32m3\u001b[39m \u001b[43mcp\u001b[49m\u001b[43m.\u001b[49m\u001b[43mmain\u001b[49m\u001b[43m(\u001b[49m\u001b[33;43m\"\u001b[39;49m\u001b[33;43minput.json\u001b[39;49m\u001b[33;43m\"\u001b[39;49m\u001b[43m,\u001b[49m\u001b[43m \u001b[49m\u001b[33;43m\"\u001b[39;49m\u001b[33;43mout.csv\u001b[39;49m\u001b[33;43m\"\u001b[39;49m\u001b[43m)\u001b[49m\n",
      "\u001b[36mFile \u001b[39m\u001b[32m~/Desktop/prova/prova con articoli/2BD_project/new_version/circle_packing.py:422\u001b[39m, in \u001b[36mmain\u001b[39m\u001b[34m(json_file, out_csv)\u001b[39m\n\u001b[32m    419\u001b[39m \u001b[38;5;28mprint\u001b[39m(\u001b[33m\"\u001b[39m\u001b[33mafter greedy :\u001b[39m\u001b[33m\"\u001b[39m, \u001b[38;5;28mlen\u001b[39m(centres))\n\u001b[32m    421\u001b[39m \u001b[38;5;66;03m# 3 ─ local compaction (Python re-implementation of Zhou’s batch-BFGS)\u001b[39;00m\n\u001b[32m--> \u001b[39m\u001b[32m422\u001b[39m centres = \u001b[43mbatch_bfgs_compact\u001b[49m\u001b[43m(\u001b[49m\u001b[43mcentres\u001b[49m\u001b[43m,\u001b[49m\u001b[43m \u001b[49m\u001b[43mR\u001b[49m\u001b[43m,\u001b[49m\u001b[43m \u001b[49m\u001b[43mpoly\u001b[49m\u001b[43m,\u001b[49m\u001b[43m \u001b[49m\u001b[43mn_pass\u001b[49m\u001b[43m=\u001b[49m\u001b[32;43m4\u001b[39;49m\u001b[43m)\u001b[49m\n\u001b[32m    423\u001b[39m \u001b[38;5;28mprint\u001b[39m(\u001b[33m\"\u001b[39m\u001b[33mafter compaction :\u001b[39m\u001b[33m\"\u001b[39m, \u001b[38;5;28mlen\u001b[39m(centres))\n\u001b[32m    425\u001b[39m \u001b[38;5;66;03m# 4 ─ second greedy pass (micron pockets now opened by compactor)\u001b[39;00m\n",
      "\u001b[36mFile \u001b[39m\u001b[32m~/Desktop/prova/prova con articoli/2BD_project/new_version/circle_packing.py:297\u001b[39m, in \u001b[36mbatch_bfgs_compact\u001b[39m\u001b[34m(centres, r, poly, n_pass)\u001b[39m\n\u001b[32m    295\u001b[39m g = np.zeros((\u001b[38;5;28mlen\u001b[39m(idx),\u001b[32m2\u001b[39m))\n\u001b[32m    296\u001b[39m \u001b[38;5;28;01mfor\u001b[39;00m k,i \u001b[38;5;129;01min\u001b[39;00m \u001b[38;5;28menumerate\u001b[39m(idx):\n\u001b[32m--> \u001b[39m\u001b[32m297\u001b[39m     g[k] = \u001b[43m_local_grad_xy\u001b[49m\u001b[43m(\u001b[49m\u001b[43mC\u001b[49m\u001b[43m[\u001b[49m\u001b[43mi\u001b[49m\u001b[43m]\u001b[49m\u001b[43m,\u001b[49m\u001b[43m \u001b[49m\u001b[43mC\u001b[49m\u001b[43m,\u001b[49m\u001b[43m \u001b[49m\u001b[43mr\u001b[49m\u001b[43m,\u001b[49m\u001b[43m \u001b[49m\u001b[43mpoly\u001b[49m\u001b[43m)\u001b[49m\n\u001b[32m    298\u001b[39m step = -\u001b[32m0.02\u001b[39m*g                          \u001b[38;5;66;03m# fixed step size\u001b[39;00m\n\u001b[32m    299\u001b[39m C[idx] += step\n",
      "\u001b[36mFile \u001b[39m\u001b[32m~/Desktop/prova/prova con articoli/2BD_project/new_version/circle_packing.py:260\u001b[39m, in \u001b[36m_local_grad_xy\u001b[39m\u001b[34m(xy, all_xy, r, poly)\u001b[39m\n\u001b[32m    258\u001b[39m dx = xy[\u001b[32m0\u001b[39m]-xi; dy = xy[\u001b[32m1\u001b[39m]-yi\n\u001b[32m    259\u001b[39m d2 = dx*dx+dy*dy\n\u001b[32m--> \u001b[39m\u001b[32m260\u001b[39m \u001b[38;5;28;01mif\u001b[39;00m d2 < (\u001b[32m2\u001b[39m*r)**\u001b[32m2\u001b[39m-\u001b[32m1e-6\u001b[39m:\n\u001b[32m    261\u001b[39m     \u001b[38;5;66;03m# overlap gradient\u001b[39;00m\n\u001b[32m    262\u001b[39m     g = -\u001b[32m2\u001b[39m*((\u001b[32m2\u001b[39m*r)**\u001b[32m2\u001b[39m-d2)\n\u001b[32m    263\u001b[39m     gx += g*dx; gy += g*dy\n",
      "\u001b[31mKeyboardInterrupt\u001b[39m: "
     ]
    }
   ],
   "source": [
    "import circle_packing as cp\n",
    "\n",
    "cp.main(\"input.json\", \"out.csv\")"
   ]
  },
  {
   "cell_type": "code",
   "execution_count": 9,
   "id": "52b2adbe",
   "metadata": {},
   "outputs": [
    {
     "name": "stdout",
     "output_type": "stream",
     "text": [
      "Initial k-way grouping: [18, 10, 6, 34, 34, 38, 60, 16, 55, 23]\n",
      "Initial k-way grouping: [18, 10, 6, 34, 34, 38, 60, 16, 55, 23]\n"
     ]
    },
    {
     "ename": "NameError",
     "evalue": "name 'plt' is not defined",
     "output_type": "error",
     "traceback": [
      "\u001b[31m---------------------------------------------------------------------------\u001b[39m",
      "\u001b[31mNameError\u001b[39m                                 Traceback (most recent call last)",
      "\u001b[36mCell\u001b[39m\u001b[36m \u001b[39m\u001b[32mIn[9]\u001b[39m\u001b[32m, line 18\u001b[39m\n\u001b[32m     13\u001b[39m \u001b[38;5;28mprint\u001b[39m(\u001b[33m\"\u001b[39m\u001b[33mInitial k-way grouping:\u001b[39m\u001b[33m\"\u001b[39m, sizes)\n\u001b[32m     15\u001b[39m \u001b[38;5;28mprint\u001b[39m(\u001b[33m\"\u001b[39m\u001b[33mInitial k-way grouping:\u001b[39m\u001b[33m\"\u001b[39m, [\u001b[38;5;28msum\u001b[39m(\u001b[32m1\u001b[39m \u001b[38;5;28;01mfor\u001b[39;00m g \u001b[38;5;129;01min\u001b[39;00m part.values() \u001b[38;5;28;01mif\u001b[39;00m g==i)\n\u001b[32m     16\u001b[39m                                   \u001b[38;5;28;01mfor\u001b[39;00m i \u001b[38;5;129;01min\u001b[39;00m \u001b[38;5;28mrange\u001b[39m(k_groups)])\n\u001b[32m---> \u001b[39m\u001b[32m18\u001b[39m \u001b[43mskg\u001b[49m\u001b[43m.\u001b[49m\u001b[43mplot_groups\u001b[49m\u001b[43m(\u001b[49m\u001b[43mpoly\u001b[49m\u001b[43m,\u001b[49m\u001b[43m \u001b[49m\u001b[43mC\u001b[49m\u001b[43m,\u001b[49m\u001b[43m \u001b[49m\u001b[43mpart\u001b[49m\u001b[43m,\u001b[49m\u001b[43m \u001b[49m\u001b[43mk_groups\u001b[49m\u001b[43m)\u001b[49m\n",
      "\u001b[36mFile \u001b[39m\u001b[32m~/Desktop/prova/prova con articoli/2BD_project/new_version/starting_k_grouping.py:29\u001b[39m, in \u001b[36mplot_groups\u001b[39m\u001b[34m(poly, centres, part_dict, k, title)\u001b[39m\n\u001b[32m     23\u001b[39m \u001b[38;5;28;01mdef\u001b[39;00m\u001b[38;5;250m \u001b[39m\u001b[34mplot_groups\u001b[39m(poly, centres, part_dict, k, title=\u001b[33m\"\u001b[39m\u001b[33mk-way grouping\u001b[39m\u001b[33m\"\u001b[39m):\n\u001b[32m     24\u001b[39m \u001b[38;5;250m    \u001b[39m\u001b[33;03m\"\"\"poly  : Shapely Polygon   (battery outline)\u001b[39;00m\n\u001b[32m     25\u001b[39m \u001b[33;03m       centres : (N,2) ndarray   (circle centres)\u001b[39;00m\n\u001b[32m     26\u001b[39m \u001b[33;03m       part_dict : {node_id : group_id}\u001b[39;00m\n\u001b[32m     27\u001b[39m \u001b[33;03m       k        : number of groups (for colouring)\u001b[39;00m\n\u001b[32m     28\u001b[39m \u001b[33;03m    \"\"\"\u001b[39;00m\n\u001b[32m---> \u001b[39m\u001b[32m29\u001b[39m     fig, ax = \u001b[43mplt\u001b[49m.subplots(figsize=(\u001b[32m6\u001b[39m,\u001b[32m6\u001b[39m))\n\u001b[32m     31\u001b[39m     \u001b[38;5;66;03m# outline\u001b[39;00m\n\u001b[32m     32\u001b[39m     ax.plot(*poly.exterior.xy, color=\u001b[33m'\u001b[39m\u001b[33mk\u001b[39m\u001b[33m'\u001b[39m, lw=\u001b[32m2\u001b[39m)\n",
      "\u001b[31mNameError\u001b[39m: name 'plt' is not defined"
     ]
    }
   ],
   "source": [
    "import starting_k_grouping as skg\n",
    "import circle_packing as cp\n",
    "from pathlib import Path\n",
    "\n",
    "poly, _ = cp.load_boundary(Path(\"input.json\"))\n",
    "C   = skg.load_centres(\"out.csv\")\n",
    "G   = skg.build_contact_graph(C)\n",
    "k_groups=10\n",
    "part= skg.greedy_k_partition(G, k_groups)\n",
    "\n",
    "# quick report\n",
    "sizes = [list(part.values()).count(g) for g in range(k_groups)]\n",
    "print(\"Initial k-way grouping:\", sizes)\n",
    "\n",
    "print(\"Initial k-way grouping:\", [sum(1 for g in part.values() if g==i)\n",
    "                                  for i in range(k_groups)])\n",
    "\n",
    "skg.plot_groups(poly, C, part, k_groups)"
   ]
  },
  {
   "cell_type": "code",
   "execution_count": 4,
   "id": "9deb54e5",
   "metadata": {},
   "outputs": [
    {
     "name": "stdout",
     "output_type": "stream",
     "text": [
      "(nparts: 'int', adjacency: 'PythonicGraph | CSRAdjacency | None' = None, xadj: 'IntSequence | None' = None, adjncy: 'IntSequence | None' = None, *, vweights: 'IntSequence | None' = None, eweights: 'IntSequence | None' = None, tpwgts: 'Sequence[float] | None' = None, recursive: 'bool | None' = None, contiguous: 'bool | None' = None, options: 'Options | None' = None, warn_on_copies: 'bool' = False) -> 'GraphPartition'\n",
      "Help on function part_graph in module pymetis:\n",
      "\n",
      "part_graph(\n",
      "    nparts: 'int',\n",
      "    adjacency: 'PythonicGraph | CSRAdjacency | None' = None,\n",
      "    xadj: 'IntSequence | None' = None,\n",
      "    adjncy: 'IntSequence | None' = None,\n",
      "    *,\n",
      "    vweights: 'IntSequence | None' = None,\n",
      "    eweights: 'IntSequence | None' = None,\n",
      "    tpwgts: 'Sequence[float] | None' = None,\n",
      "    recursive: 'bool | None' = None,\n",
      "    contiguous: 'bool | None' = None,\n",
      "    options: 'Options | None' = None,\n",
      "    warn_on_copies: 'bool' = False\n",
      ") -> 'GraphPartition'\n",
      "    Return a partition (cutcount, part_vert) into nparts for an input graph.\n",
      "\n",
      "    The input graph is given in either a Pythonic way as the *adjacency* parameter\n",
      "    or in the direct CSR-like way that Metis uses internally as *xadj* and *adjncy*. It\n",
      "    is an error to specify both graph inputs.\n",
      "\n",
      "    The Pythonic graph specifier *adjacency* is required to have the following\n",
      "    properties:\n",
      "\n",
      "    - len(adjacency) needs to return the number of vertices\n",
      "    - ``adjacency[i]`` needs to be an iterable of vertices adjacent to vertex i.\n",
      "      Both directions of an undirected graph edge are required to be stored.\n",
      "\n",
      "    If you would like to use *eweights* (edge weights), you need to use the\n",
      "    xadj/adjncy way of specifying graph connectivity. This works as follows:\n",
      "\n",
      "        The adjacency structure of the graph is stored as follows: The\n",
      "        adjacency list of vertex *i* is stored in array *adjncy* starting at\n",
      "        index ``xadj[i]`` and ending at (but not including) index ``xadj[i +\n",
      "        1]``. That is, for each vertex i, its adjacency list is stored in\n",
      "        consecutive locations in the array *adjncy*, and the array *xadj* is\n",
      "        used to point to where it begins and where it ends.\n",
      "\n",
      "        The weights of the edges (if any) are stored in an additional array\n",
      "        called *eweights*. This array contains *2m* elements (where *m* is the\n",
      "        number of edges, taking into account the undirected nature of the\n",
      "        graph), and the weight of edge ``adjncy[j]`` is stored at location\n",
      "        ``eweights[j]``. The edge-weights must be integers greater than zero. If\n",
      "        all the edges of the graph have the same weight (i.e., the graph is\n",
      "        unweighted), then the eweight can be set to ``None``.\n",
      "\n",
      "    METIS runtime options can be specified by supplying an :class:`Options` object in\n",
      "    the input.\n",
      "\n",
      "    ``tpwgts`` is a list of size ``nparts`` that specifies the desired weight for\n",
      "    each partition. Its entries must sum to a value less than or equal to 1.\n",
      "\n",
      "    (quoted with slight adaptations from the Metis docs)\n",
      "\n"
     ]
    },
    {
     "name": "stderr",
     "output_type": "stream",
     "text": [
      "/var/folders/20/448h2f1933x4jpn5p3l2lb7c0000gn/T/ipykernel_60356/2472814203.py:7: DeprecationWarning: Passing xadj/adjncy is deprecated and will be removed in 2027. Pass a CSRAdjacency object instead.\n",
      "  gp = pymetis.part_graph(nparts=None)   # make a tiny test graph\n"
     ]
    },
    {
     "ename": "TypeError",
     "evalue": "must pass xadj/adjacency if adjacency is not passed",
     "output_type": "error",
     "traceback": [
      "\u001b[31m---------------------------------------------------------------------------\u001b[39m",
      "\u001b[31mTypeError\u001b[39m                                 Traceback (most recent call last)",
      "\u001b[36mCell\u001b[39m\u001b[36m \u001b[39m\u001b[32mIn[4]\u001b[39m\u001b[32m, line 7\u001b[39m\n\u001b[32m      3\u001b[39m help(pymetis.part_graph)\n\u001b[32m      5\u001b[39m \u001b[38;5;28;01mfrom\u001b[39;00m\u001b[38;5;250m \u001b[39m\u001b[34;01mpprint\u001b[39;00m\u001b[38;5;250m \u001b[39m\u001b[38;5;28;01mimport\u001b[39;00m pprint\n\u001b[32m----> \u001b[39m\u001b[32m7\u001b[39m gp = \u001b[43mpymetis\u001b[49m\u001b[43m.\u001b[49m\u001b[43mpart_graph\u001b[49m\u001b[43m(\u001b[49m\u001b[43mnparts\u001b[49m\u001b[43m=\u001b[49m\u001b[38;5;28;43;01mNone\u001b[39;49;00m\u001b[43m)\u001b[49m   \u001b[38;5;66;03m# make a tiny test graph\u001b[39;00m\n\u001b[32m      9\u001b[39m \u001b[38;5;28mprint\u001b[39m(gp)           \u001b[38;5;66;03m# often prints something like GraphPartition(cuts=…, parts=…)\u001b[39;00m\n\u001b[32m     10\u001b[39m \u001b[38;5;28mprint\u001b[39m(\u001b[38;5;28mtype\u001b[39m(gp))     \u001b[38;5;66;03m# the class (usually _pymetis.GraphPartition)\u001b[39;00m\n",
      "\u001b[36mFile \u001b[39m\u001b[32m/opt/anaconda3/envs/tirocinio_IA/lib/python3.13/site-packages/pymetis/__init__.py:503\u001b[39m, in \u001b[36mpart_graph\u001b[39m\u001b[34m(nparts, adjacency, xadj, adjncy, vweights, eweights, tpwgts, recursive, contiguous, options, warn_on_copies)\u001b[39m\n\u001b[32m    450\u001b[39m \u001b[38;5;28;01mdef\u001b[39;00m\u001b[38;5;250m \u001b[39m\u001b[34mpart_graph\u001b[39m(\n\u001b[32m    451\u001b[39m             nparts: \u001b[38;5;28mint\u001b[39m,\n\u001b[32m    452\u001b[39m             adjacency: PythonicGraph | CSRAdjacency | \u001b[38;5;28;01mNone\u001b[39;00m = \u001b[38;5;28;01mNone\u001b[39;00m,\n\u001b[32m   (...)\u001b[39m\u001b[32m    462\u001b[39m             warn_on_copies: \u001b[38;5;28mbool\u001b[39m = \u001b[38;5;28;01mFalse\u001b[39;00m,\n\u001b[32m    463\u001b[39m         ) -> GraphPartition:\n\u001b[32m    464\u001b[39m \u001b[38;5;250m    \u001b[39m\u001b[33;03m\"\"\"Return a partition (cutcount, part_vert) into nparts for an input graph.\u001b[39;00m\n\u001b[32m    465\u001b[39m \n\u001b[32m    466\u001b[39m \u001b[33;03m    The input graph is given in either a Pythonic way as the *adjacency* parameter\u001b[39;00m\n\u001b[32m   (...)\u001b[39m\u001b[32m    501\u001b[39m \u001b[33;03m    (quoted with slight adaptations from the Metis docs)\u001b[39;00m\n\u001b[32m    502\u001b[39m \u001b[33;03m    \"\"\"\u001b[39;00m\n\u001b[32m--> \u001b[39m\u001b[32m503\u001b[39m     xadj, adjncy = \u001b[43m_prepare_graph\u001b[49m\u001b[43m(\u001b[49m\u001b[43madjacency\u001b[49m\u001b[43m,\u001b[49m\u001b[43m \u001b[49m\u001b[43mxadj\u001b[49m\u001b[43m,\u001b[49m\u001b[43m \u001b[49m\u001b[43madjncy\u001b[49m\u001b[43m)\u001b[49m\n\u001b[32m    505\u001b[39m     \u001b[38;5;28;01mif\u001b[39;00m recursive \u001b[38;5;129;01mis\u001b[39;00m \u001b[38;5;28;01mNone\u001b[39;00m:\n\u001b[32m    506\u001b[39m         recursive = nparts <= \u001b[32m8\u001b[39m\n",
      "\u001b[36mFile \u001b[39m\u001b[32m/opt/anaconda3/envs/tirocinio_IA/lib/python3.13/site-packages/pymetis/__init__.py:368\u001b[39m, in \u001b[36m_prepare_graph\u001b[39m\u001b[34m(adjacency, xadj, adjncy)\u001b[39m\n\u001b[32m    364\u001b[39m     warn(\u001b[33m\"\u001b[39m\u001b[33mPassing xadj/adjncy is deprecated and will be removed in 2027. \u001b[39m\u001b[33m\"\u001b[39m\n\u001b[32m    365\u001b[39m          \u001b[33m\"\u001b[39m\u001b[33mPass a CSRAdjacency object instead.\u001b[39m\u001b[33m\"\u001b[39m, \u001b[38;5;167;01mDeprecationWarning\u001b[39;00m, stacklevel=\u001b[32m3\u001b[39m)\n\u001b[32m    367\u001b[39m     \u001b[38;5;28;01mif\u001b[39;00m xadj \u001b[38;5;129;01mis\u001b[39;00m \u001b[38;5;28;01mNone\u001b[39;00m \u001b[38;5;129;01mor\u001b[39;00m adjncy \u001b[38;5;129;01mis\u001b[39;00m \u001b[38;5;28;01mNone\u001b[39;00m:\n\u001b[32m--> \u001b[39m\u001b[32m368\u001b[39m         \u001b[38;5;28;01mraise\u001b[39;00m \u001b[38;5;167;01mTypeError\u001b[39;00m(\u001b[33m\"\u001b[39m\u001b[33mmust pass xadj/adjacency if adjacency is not passed\u001b[39m\u001b[33m\"\u001b[39m)\n\u001b[32m    370\u001b[39m \u001b[38;5;28;01mreturn\u001b[39;00m xadj, adjncy\n",
      "\u001b[31mTypeError\u001b[39m: must pass xadj/adjacency if adjacency is not passed"
     ]
    }
   ],
   "source": [
    "import inspect, pymetis\n",
    "print(inspect.signature(pymetis.part_graph))\n",
    "help(pymetis.part_graph)\n",
    "\n",
    "from pprint import pprint\n",
    "\n",
    "gp = pymetis.part_graph(nparts=None)   # make a tiny test graph\n",
    "\n",
    "print(gp)           # often prints something like GraphPartition(cuts=…, parts=…)\n",
    "print(type(gp))     # the class (usually _pymetis.GraphPartition)\n",
    "print(dir(gp))      # all attributes / methods\n",
    "pprint(vars(gp))    # same as gp.__dict__  if it is a dataclass"
   ]
  }
 ],
 "metadata": {
  "kernelspec": {
   "display_name": "tirocinio_IA",
   "language": "python",
   "name": "python3"
  },
  "language_info": {
   "codemirror_mode": {
    "name": "ipython",
    "version": 3
   },
   "file_extension": ".py",
   "mimetype": "text/x-python",
   "name": "python",
   "nbconvert_exporter": "python",
   "pygments_lexer": "ipython3",
   "version": "3.13.2"
  }
 },
 "nbformat": 4,
 "nbformat_minor": 5
}
